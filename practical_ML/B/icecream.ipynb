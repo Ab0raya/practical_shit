{
  "nbformat": 4,
  "nbformat_minor": 0,
  "metadata": {
    "colab": {
      "private_outputs": true,
      "provenance": []
    },
    "kernelspec": {
      "name": "python3",
      "display_name": "Python 3"
    },
    "language_info": {
      "name": "python"
    }
  },
  "cells": [
    {
      "cell_type": "code",
      "execution_count": null,
      "metadata": {
        "id": "lqejF7nIix4h"
      },
      "outputs": [],
      "source": [
        "import matplotlib.pyplot as plt\n",
        "from sklearn.linear_model import LinearRegression\n",
        "import numpy as np\n",
        "\n",
        "# Data\n",
        "temperature = [[6], [8], [12], [16], [18], [22], [28], [28]]  # Features\n",
        "sales = [135, 50, 125, 100, 200, 150, 250, 175]  # Target\n",
        "\n",
        "# Create and fit the model\n",
        "model = LinearRegression()\n",
        "model.fit(temperature, sales)\n",
        "\n",
        "# Get the slope and intercept\n",
        "slope = model.coef_[0]\n",
        "intercept = model.intercept_\n",
        "\n",
        "# Print results\n",
        "print(\"Slope (coefficient):\", slope)\n",
        "print(\"Intercept:\", intercept)\n",
        "\n",
        "# Predict sales for 20°C\n",
        "predicted_sales = model.predict([[20]])\n",
        "print(\"Predicted sales at 20°C:\", predicted_sales[0])\n",
        "\n",
        "# Plotting\n",
        "plt.figure(figsize=(8, 6))\n",
        "\n",
        "# Plot the data points\n",
        "plt.scatter(temperature, sales, color='blue', label='Actual Data')\n",
        "\n",
        "# Plot the regression line\n",
        "x_values = np.linspace(min(temperature)[0], max(temperature)[0], 100)\n",
        "y_values = slope * x_values + intercept\n",
        "plt.plot(x_values, y_values, color='red', label='Regression Line')\n",
        "\n",
        "# Highlight the prediction point\n",
        "plt.scatter(20, predicted_sales, color='green', s=100, label='Prediction at 20°C')\n",
        "\n",
        "# Add labels and title\n",
        "plt.xlabel('Temperature (°C)')\n",
        "plt.ylabel('Sales')\n",
        "plt.title('Temperature vs Ice Cream Sales with Regression Line')\n",
        "plt.legend()\n",
        "plt.grid(True)\n",
        "\n",
        "# Show the plot\n",
        "plt.show()"
      ]
    },
    {
      "cell_type": "code",
      "source": [],
      "metadata": {
        "id": "J8FpOKJsi2J9"
      },
      "execution_count": null,
      "outputs": []
    }
  ]
}
