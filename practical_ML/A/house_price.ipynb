{
  "nbformat": 4,
  "nbformat_minor": 0,
  "metadata": {
    "colab": {
      "private_outputs": true,
      "provenance": []
    },
    "kernelspec": {
      "name": "python3",
      "display_name": "Python 3"
    },
    "language_info": {
      "name": "python"
    }
  },
  "cells": [
    {
      "cell_type": "code",
      "execution_count": null,
      "metadata": {
        "id": "ZdB3PVWxfKg9"
      },
      "outputs": [],
      "source": [
        "# # 🏠 Simple Linear Regression: Predicting House Prices\n",
        "#\n",
        "# In this example, we build a simple linear regression model using `scikit-learn`\n",
        "# to predict house prices based on square footage.\n",
        "#\n",
        "# ### 📘 Problem Statement:\n",
        "# You're working for a real estate company, and you need to predict house prices\n",
        "# based on their square footage.\n",
        "#\n",
        "# ### 🧮 Dataset:\n",
        "# | Square Footage | House Price |\n",
        "# |----------------|-------------|\n",
        "# | 1500           | 300000      |\n",
        "# | 2000           | 350000      |\n",
        "# | 2500           | 400000      |\n",
        "# | 3000           | 450000      |\n",
        "# | 3500           | 500000      |\n",
        "#\n",
        "# We'll use this dataset to fit a simple linear regression model.\n",
        "\n",
        "from sklearn.linear_model import LinearRegression\n",
        "\n",
        "# Step 1: Prepare the data as list of lists (2D)\n",
        "X = [[1500], [2000], [2500], [3000], [3500]]\n",
        "y = [300000, 350000, 400000, 450000, 500000]\n",
        "\n",
        "# Step 2: Create and train the model\n",
        "model = LinearRegression()\n",
        "model.fit(X, y)\n",
        "\n",
        "# Step 3: Predict the price of a house with 2800 sqft\n",
        "predicted_price = model.predict([[2800]])\n",
        "\n",
        "# Step 4: Display the prediction\n",
        "print(f\"Predicted price for 2800 sqft = ${predicted_price[0]}\")\n"
      ]
    },
    {
      "cell_type": "code",
      "source": [],
      "metadata": {
        "id": "zJFZAS-0fMyG"
      },
      "execution_count": null,
      "outputs": []
    }
  ]
}
