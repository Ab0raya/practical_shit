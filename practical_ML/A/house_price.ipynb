{
  "nbformat": 4,
  "nbformat_minor": 0,
  "metadata": {
    "colab": {
      "private_outputs": true,
      "provenance": []
    },
    "kernelspec": {
      "name": "python3",
      "display_name": "Python 3"
    },
    "language_info": {
      "name": "python"
    }
  },
  "cells": [
    {
      "cell_type": "code",
      "execution_count": null,
      "metadata": {
        "id": "ZdB3PVWxfKg9"
      },
      "outputs": [],
      "source": [
        "from sklearn.linear_model import LinearRegression\n",
        "X = [[1500], [2000], [2500], [3000], [3500]]\n",
        "y = [300000, 350000, 400000, 450000, 500000]\n",
        "model = LinearRegression()\n",
        "model.fit(X, y)\n",
        "predicted_price = model.predict([[2800]])\n",
        "print(f\"Predicted price for 2800 sqft = ${predicted_price[0]}\")\n"
      ]
    },
    {
      "cell_type": "code",
      "source": [],
      "metadata": {
        "id": "zJFZAS-0fMyG"
      },
      "execution_count": null,
      "outputs": []
    }
  ]
}
