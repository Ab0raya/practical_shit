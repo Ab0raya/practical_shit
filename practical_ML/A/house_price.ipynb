from sklearn.linear_model import LinearRegression
import numpy as np

# Step 1: Prepare the data
X = np.array([1500, 2000, 2500, 3000, 3500]).reshape(-1, 1)
y = np.array([300000, 350000, 400000, 450000, 500000])

# Step 2: Create and train the model
model = LinearRegression()
model.fit(X, y)

# Step 3: Predict the price of a house with 2800 sqft
predicted_price = model.predict([[2800]])

# Print the result
print(f"Predicted price for 2800 sqft = ${predicted_price[0]:,.2f}")
