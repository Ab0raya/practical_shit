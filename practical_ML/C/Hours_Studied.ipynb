{
  "nbformat": 4,
  "nbformat_minor": 0,
  "metadata": {
    "colab": {
      "private_outputs": true,
      "provenance": []
    },
    "kernelspec": {
      "name": "python3",
      "display_name": "Python 3"
    },
    "language_info": {
      "name": "python"
    }
  },
  "cells": [
    {
      "cell_type": "code",
      "execution_count": null,
      "metadata": {
        "id": "lqejF7nIix4h"
      },
      "outputs": [],
      "source": [
        "import numpy as np\n",
        "import matplotlib.pyplot as plt\n",
        "from sklearn.linear_model import LinearRegression\n",
        "\n",
        "# Given data\n",
        "hours_studied = np.array([1.5, 3.0, 4.5, 6.0, 7.5]).reshape(-1, 1)\n",
        "test_scores = np.array([55, 65, 75, 85, 95])\n",
        "\n",
        "# Create and fit the linear regression model\n",
        "model = LinearRegression()\n",
        "model.fit(hours_studied, test_scores)\n",
        "\n",
        "# Get the slope (coefficient) and intercept\n",
        "slope = model.coef_[0]\n",
        "intercept = model.intercept_\n",
        "\n",
        "print(f\"Regression equation: Test Score = {slope:.2f} * Hours + {intercept:.2f}\")\n",
        "\n",
        "# Predict scores for visualization\n",
        "predicted_scores = model.predict(hours_studied)\n",
        "\n",
        "# Create the plot\n",
        "plt.figure(figsize=(8, 6))\n",
        "plt.scatter(hours_studied, test_scores, color='blue', label='Actual Scores')\n",
        "plt.plot(hours_studied, predicted_scores, color='red', label='Regression Line')\n",
        "plt.title('Test Scores vs Hours Studied')\n",
        "plt.xlabel('Hours Studied')\n",
        "plt.ylabel('Test Score')\n",
        "plt.legend()\n",
        "plt.grid(True)\n",
        "plt.show()"
      ]
    },
    {
      "cell_type": "code",
      "source": [],
      "metadata": {
        "id": "J8FpOKJsi2J9"
      },
      "execution_count": null,
      "outputs": []
    }
  ]
}
